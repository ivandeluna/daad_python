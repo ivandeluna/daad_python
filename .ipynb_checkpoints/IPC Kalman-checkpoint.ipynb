{
 "cells": [
  {
   "cell_type": "markdown",
   "metadata": {},
   "source": [
    "#  Ejercicio para aplicar Filtro Kalman y Kalman-Azhmyakov a el análisis de series de tiempo usando el IPC de la BMV."
   ]
  },
  {
   "cell_type": "markdown",
   "metadata": {},
   "source": [
    "## Introducción"
   ]
  },
  {
   "cell_type": "markdown",
   "metadata": {},
   "source": [
    "Este ejercicio se realiza para entender la aplicación del Filtro Kalman (KF) al análisis de series de tiempo, en específico de rendimientos, así como la aplicación de una versión del KF que denominaremos Filtro Kalman-Azhmyakov o (KAF).\n",
    "\n",
    "El periodo que se analizará será del 1ero de enero del 2017 hasta el 30 de septiembre del mismo año.\n"
   ]
  },
  {
   "cell_type": "code",
   "execution_count": 2,
   "metadata": {
    "collapsed": true
   },
   "outputs": [],
   "source": [
    "import pandas_datareader.data as dr\n",
    "import datetime\n",
    "import matplotlib.pyplot as plt\n",
    "import numpy as np\n",
    "%matplotlib inline"
   ]
  },
  {
   "cell_type": "markdown",
   "metadata": {},
   "source": [
    "Se crean dos variables, start y end, en donde se especificara el rango de tiempo para poder hacer un query \n",
    "a la base de datos (BD), para este caso utilizaremos Yahoo! Finance.\n",
    "\n",
    "Para poder bajar los datos de Yahoo! Finance, es necesario utilizar el ticker que utiliza la BD de Yahoo\n",
    "en este caso para el IPC, el ticker es ^MXX pero por la forma en como busca los datos, haciendo uso de la URL,\n",
    "es necesario usar el codigo segun aparece en ella para este caso es %5EMXX.\n",
    "\n",
    "En otro aspecto, la libreria datetime nos ayuda a formatear "
   ]
  },
  {
   "cell_type": "code",
   "execution_count": 3,
   "metadata": {
    "collapsed": true
   },
   "outputs": [],
   "source": [
    "start = datetime.datetime(2017,1,1)\n",
    "end = datetime.datetime(2017,9,30)   \n",
    "\n",
    "ipc = dr.DataReader(\"%5EMXX\", 'yahoo', start, end) "
   ]
  },
  {
   "cell_type": "markdown",
   "metadata": {},
   "source": [
    "Al hacer uso de Yahoo Finance para descargar datos se obtiene un data frame con diferentes columnas Open, High, Low, Close, Adjusted Close, Volume Para terminos de analisis de datos vamos a usar la variable de Adjusted Close o Cierre ajustado\n",
    "ya que integra dentro de los datos la informacion de movimientos corporativos como splits, dividendos o derechos."
   ]
  },
  {
   "cell_type": "markdown",
   "metadata": {},
   "source": [
    "## Análisis preliminar de datos y selección de series"
   ]
  },
  {
   "cell_type": "code",
   "execution_count": null,
   "metadata": {
    "collapsed": true
   },
   "outputs": [],
   "source": []
  }
 ],
 "metadata": {
  "kernelspec": {
   "display_name": "Python 3",
   "language": "python",
   "name": "python3"
  },
  "language_info": {
   "codemirror_mode": {
    "name": "ipython",
    "version": 3
   },
   "file_extension": ".py",
   "mimetype": "text/x-python",
   "name": "python",
   "nbconvert_exporter": "python",
   "pygments_lexer": "ipython3",
   "version": "3.6.1"
  }
 },
 "nbformat": 4,
 "nbformat_minor": 2
}
