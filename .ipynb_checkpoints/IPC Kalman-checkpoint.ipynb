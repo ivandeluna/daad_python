{
 "cells": [
  {
   "cell_type": "markdown",
   "metadata": {},
   "source": [
    "#  Ejercicio para aplicar Filtro Kalman y Kalman-Azhmyakov a el análisis de series de tiempo usando el IPC de la BMV."
   ]
  },
  {
   "cell_type": "markdown",
   "metadata": {},
   "source": [
    "## Introducción"
   ]
  },
  {
   "cell_type": "markdown",
   "metadata": {},
   "source": [
    "En este ejercicio realizaremos una aplicación del Filtro Kalman (KF) al análisis de series de tiempo, en específico de rendimientos, así como la aplicación de una versión del KF que denominaremos Filtro Kalman-Azhmyakov o (KAF).\n",
    "\n",
    "El periodo que se analizará será del 1ero de enero del 2017 hasta el 30 de septiembre del mismo año.\n"
   ]
  },
  {
   "cell_type": "code",
   "execution_count": 2,
   "metadata": {
    "collapsed": true
   },
   "outputs": [],
   "source": [
    "import pandas_datareader.data as dr\n",
    "import datetime\n",
    "import matplotlib.pyplot as plt\n",
    "import numpy as np\n",
    "%matplotlib inline"
   ]
  },
  {
   "cell_type": "markdown",
   "metadata": {},
   "source": [
    "Se crean dos variables, start y end, en donde se especificara el rango de tiempo para poder hacer un query \n",
    "a la base de datos (BD), para este caso utilizaremos Yahoo! Finance.\n",
    "\n",
    "Para poder bajar los datos de Yahoo! Finance, es necesario utilizar el ticker que utiliza la BD de Yahoo\n",
    "en este caso para el IPC, el ticker es ^MXX pero por la forma en como busca los datos, haciendo uso de la URL,\n",
    "es necesario usar el codigo segun aparece en ella para este caso es %5EMXX.\n",
    "\n",
    "En otro aspecto, la libreria datetime nos ayuda a formatear "
   ]
  },
  {
   "cell_type": "code",
   "execution_count": 3,
   "metadata": {
    "collapsed": true
   },
   "outputs": [],
   "source": [
    "start = datetime.datetime(2017,1,1)\n",
    "end = datetime.datetime(2017,9,30)   \n",
    "\n",
    "ipc = dr.DataReader(\"%5EMXX\", 'yahoo', start, end) "
   ]
  },
  {
   "cell_type": "markdown",
   "metadata": {},
   "source": [
    "Al hacer uso de Yahoo Finance para descargar datos se obtiene un data frame con diferentes columnas Open, High, Low, Close, Adjusted Close, Volume Para terminos de analisis de datos vamos a usar la variable de Adjusted Close o Cierre ajustado\n",
    "ya que integra dentro de los datos la informacion de movimientos corporativos como splits, dividendos o derechos."
   ]
  },
  {
   "cell_type": "markdown",
   "metadata": {},
   "source": [
    "## Análisis preliminar de datos y selección de series"
   ]
  },
  {
   "cell_type": "markdown",
   "metadata": {
    "collapsed": true
   },
   "source": [
    "Pandas nos permite hacer uso de los datos e y requerir datos de Yahoo! Finance o cualquier otro servicio de datos sobre acciones e índices, se crea una estructura llamada Data Frame (df o en este caso ipc), la cual esta diseñada para facilitar la manipulacion de los datos.\n",
    "\n",
    "Se puede extraer del Data Frame (df o en este caso ipc) los datos necesarios en forma de vectores, lo cual no es recomendable para ciertas cosas por ser mas tardado y crear mas lineas.\n",
    "\n",
    "Grafica IPC Precios de cierre ajustados la funcion iloc funciona para \"partir\" el data frame y los vectores en este caso nos interesa la columa 4 de Adjusted Close y los renglones del 1 al 190 (todos)."
   ]
  },
  {
   "cell_type": "code",
   "execution_count": null,
   "metadata": {
    "collapsed": true
   },
   "outputs": [],
   "source": [
    "ipc[['Adj Close','Volume']].plot(subplots=True, style='r', figsize=(8,5))\n"
   ]
  },
  {
   "cell_type": "markdown",
   "metadata": {},
   "source": [
    "Podemos ver que no existe algún tipo de autocorrelacion entre los diferentes lags de la serie"
   ]
  },
  {
   "cell_type": "code",
   "execution_count": null,
   "metadata": {
    "collapsed": true
   },
   "outputs": [],
   "source": [
    "from pandas import Series\n",
    "from matplotlib import pyplot\n",
    "from pandas.tools.plotting import lag_plot\n",
    "\n",
    "lag_plot(ipc['Return'])\n",
    "pyplot.show()"
   ]
  },
  {
   "cell_type": "markdown",
   "metadata": {},
   "source": [
    "En otros términos, la correlación entre $ipc_t$ y $ipc_{t-1}$ es de $0.034341$"
   ]
  },
  {
   "cell_type": "code",
   "execution_count": null,
   "metadata": {
    "collapsed": true
   },
   "outputs": [],
   "source": [
    "from pandas import DataFrame\n",
    "from pandas import concat\n",
    "\n",
    "df_corr = concat([ipc['Return'].shift(1), ipc['Return']], axis = 1)\n",
    "df_corr.columns = ['t-1','t+1']\n",
    "resultado = df_corr.corr()\n",
    "print(resultado)"
   ]
  },
  {
   "cell_type": "markdown",
   "metadata": {},
   "source": [
    "Por otra parte podemos asumir un supuesto de normalidad"
   ]
  },
  {
   "cell_type": "markdown",
   "metadata": {
    "collapsed": true
   },
   "source": [
    "## Filtro Kalman Clásico"
   ]
  },
  {
   "cell_type": "markdown",
   "metadata": {},
   "source": [
    "## Proceso a estimar\n",
    "\n",
    "Para poder aplicar el Filtro Kalman Clásico (KF) es necesario hacer ciertas consideraciones, basado en Welch & Bishop (2006), el proceso estocástico es lineal y se define como:\n",
    "\n",
    "$ x_k = Ax_{k-1} + Bu_{k-1} + w_{k-1}$\n",
    "\n",
    "con una medida de $z \\in \\Re^m$ como:\n",
    "\n",
    "$z_k = Hx_k + v_k$\n",
    "\n",
    "Con las variables aleatorias $w_k$ y $v_k$ representando el ruido del proceso y su medida respectivamente. Este ruido se asume independiente, blanco y con distribucion normal\n",
    "\n",
    "$p(w) ~ N(0, Q)$\n",
    "\n",
    "$p(v) ~ N(0, R)$\n",
    "\n",
    "en la práctica, la matrix de covarianca del ruido del proceso $Q$ y la matriz de covarianza del ruido de la medida $R$ cambian en cada actualización del proceso, pero para este ejercicio se asumen constantes.\n",
    "\n",
    "\n",
    "La estimacion del proceso se da con dos ecuaciones, una que actualiza y otra que mide, o de manera más concreta:\n",
    "\n",
    "### Ecuación de Medición\n",
    "\n",
    "$$"
   ]
  }
 ],
 "metadata": {
  "celltoolbar": "Raw Cell Format",
  "kernelspec": {
   "display_name": "Python 3",
   "language": "python",
   "name": "python3"
  },
  "language_info": {
   "codemirror_mode": {
    "name": "ipython",
    "version": 3
   },
   "file_extension": ".py",
   "mimetype": "text/x-python",
   "name": "python",
   "nbconvert_exporter": "python",
   "pygments_lexer": "ipython3",
   "version": "3.6.1"
  }
 },
 "nbformat": 4,
 "nbformat_minor": 2
}
